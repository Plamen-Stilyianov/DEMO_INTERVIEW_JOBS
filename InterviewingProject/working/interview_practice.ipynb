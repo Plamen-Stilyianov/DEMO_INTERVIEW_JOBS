{
 "cells": [
  {
   "cell_type": "code",
   "id": "initial_id",
   "metadata": {
    "collapsed": true,
    "ExecuteTime": {
     "end_time": "2025-01-21T21:13:36.639300Z",
     "start_time": "2025-01-21T21:13:36.286103Z"
    }
   },
   "source": [
    "import warnings\n",
    "import numpy as np\n",
    "import pandas as pd\n",
    "\n",
    "warnings.filterwarnings(\"ignore\")\n"
   ],
   "outputs": [],
   "execution_count": 1
  },
  {
   "metadata": {
    "ExecuteTime": {
     "end_time": "2025-01-21T21:13:36.654734Z",
     "start_time": "2025-01-21T21:13:36.648179Z"
    }
   },
   "cell_type": "code",
   "source": "",
   "id": "be71e5c3952761b5",
   "outputs": [],
   "execution_count": null
  },
  {
   "metadata": {
    "ExecuteTime": {
     "end_time": "2025-01-21T21:13:36.998031Z",
     "start_time": "2025-01-21T21:13:36.983670Z"
    }
   },
   "cell_type": "code",
   "source": [
    "'''\n",
    "def is_palindrome(string):\n",
    "    reversed_string = string[::-1]\n",
    "    return string == reversed_string\n",
    "'''\n",
    "print('')"
   ],
   "id": "8bdfff7b15ed536",
   "outputs": [
    {
     "name": "stdout",
     "output_type": "stream",
     "text": [
      "\n"
     ]
    }
   ],
   "execution_count": 2
  },
  {
   "cell_type": "code",
   "source": [
    "def is_polingdrome(string):\n",
    "    if len(string)%2 == 0:\n",
    "        return False\n",
    "    else:\n",
    "        for i in range(0, (len(string)-1)//2):\n",
    "            if s[i] != s[-1 - i]:\n",
    "                return False\n",
    "            \n",
    "        return True\n",
    "\n",
    "s = 'madamodam'\n",
    "print(f\"Is '{s}' word a polingdrome? {is_polingdrome(s)}\")"
   ],
   "metadata": {
    "collapsed": false,
    "ExecuteTime": {
     "end_time": "2025-01-21T21:13:37.030125Z",
     "start_time": "2025-01-21T21:13:37.016119Z"
    }
   },
   "id": "a99444de19a3d216",
   "outputs": [
    {
     "name": "stdout",
     "output_type": "stream",
     "text": [
      "Is 'madamodam' word a polingdrome? False\n"
     ]
    }
   ],
   "execution_count": 3
  },
  {
   "metadata": {
    "ExecuteTime": {
     "end_time": "2025-01-21T21:13:37.091181Z",
     "start_time": "2025-01-21T21:13:37.083138Z"
    }
   },
   "cell_type": "code",
   "source": [
    "def is_polingdrome(string):\n",
    "    \n",
    "    return False if len(string)%2 == 0 else True if len(string)//2 == len([i for i in range(0,len(string)//2) if string[i] == string[-1 -i]]) else False\n",
    "\n",
    "s = 'madamadam'\n",
    "print(f\"Is '{s}' word a polingdrome? {is_polingdrome(s)}\")"
   ],
   "id": "dcec8b1dd832c4d1",
   "outputs": [
    {
     "name": "stdout",
     "output_type": "stream",
     "text": [
      "Is 'madamadam' word a polingdrome? True\n"
     ]
    }
   ],
   "execution_count": 4
  },
  {
   "metadata": {
    "ExecuteTime": {
     "end_time": "2025-01-21T21:13:37.121838Z",
     "start_time": "2025-01-21T21:13:37.116828Z"
    }
   },
   "cell_type": "code",
   "source": [
    "def is_polingdrome(string):\n",
    "    return True if string == string[::-1] else False\n",
    "\n",
    "s = 'madamodam'\n",
    "print(f\"Is '{s}' word a polingdrome? {is_polingdrome(s)}\")"
   ],
   "id": "be43551e4f43fde",
   "outputs": [
    {
     "name": "stdout",
     "output_type": "stream",
     "text": [
      "Is 'madamodam' word a polingdrome? False\n"
     ]
    }
   ],
   "execution_count": 5
  },
  {
   "metadata": {},
   "cell_type": "markdown",
   "source": [
    "Question 2: Write a Python program to find the factorial of a number.\n",
    "\n",
    "- factorial of 5 is 5 * 4 * 3 * 2 * 1 which equals to 120"
   ],
   "id": "b377080ac1668e51"
  },
  {
   "metadata": {
    "ExecuteTime": {
     "end_time": "2025-01-21T21:13:37.168838Z",
     "start_time": "2025-01-21T21:13:37.157828Z"
    }
   },
   "cell_type": "code",
   "source": [
    "def factorial(n):\n",
    "    if n <= 1:\n",
    "        return 1\n",
    "    else:\n",
    "        return n * factorial(n-1)\n",
    "    \n",
    "n = 5\n",
    "print(f\"The factorial of number '{n}' is {factorial(n)}.\")"
   ],
   "id": "56db35a1cf20f797",
   "outputs": [
    {
     "name": "stdout",
     "output_type": "stream",
     "text": [
      "The factorial of number '5' is 120.\n"
     ]
    }
   ],
   "execution_count": 6
  },
  {
   "metadata": {},
   "cell_type": "markdown",
   "source": "Question 3: Write a Python program to find the largest element in a list.",
   "id": "4b4ec8affac81bdc"
  },
  {
   "metadata": {},
   "cell_type": "markdown",
   "source": [
    "value = max(l[i], l[i+1])\n",
    "\n",
    "value = l[i] if l[i] > l[i+1] else l[i+1]"
   ],
   "id": "5faeeb9dac7f6031"
  },
  {
   "metadata": {
    "ExecuteTime": {
     "end_time": "2025-01-21T21:13:37.215515Z",
     "start_time": "2025-01-21T21:13:37.206529Z"
    }
   },
   "cell_type": "code",
   "source": [
    "def get_max_values(l):\n",
    "    max_value = [0]\n",
    "    if len(l)%2 == 0:\n",
    "        for i in range(0, len(l), 2):\n",
    "            value = max(l[i], l[i+1])\n",
    "            max_value[0] =  max(max_value[0], value)\n",
    "    else:\n",
    "        for i in range(0, len(l)-1, 2):\n",
    "            value = max(l[i], l[i+1])\n",
    "            max_value[0] = max(max_value[0], value)\n",
    "        max_value[0] = max(max_value[0], l[-1])\n",
    "    return max_value[0]\n",
    "\n",
    "l = [np.random.randint(1, 10) for _ in range(10)]\n",
    "print(f\"The largest number of {l} is {get_max_values(l)}\")"
   ],
   "id": "f21170e878475dc3",
   "outputs": [
    {
     "name": "stdout",
     "output_type": "stream",
     "text": [
      "The largest number of [8, 7, 1, 3, 7, 1, 7, 9, 8, 6] is 9\n"
     ]
    }
   ],
   "execution_count": 7
  },
  {
   "metadata": {
    "ExecuteTime": {
     "end_time": "2025-01-21T21:13:37.277585Z",
     "start_time": "2025-01-21T21:13:37.257588Z"
    }
   },
   "cell_type": "code",
   "source": "max(l)",
   "id": "d460fc077046d10",
   "outputs": [
    {
     "data": {
      "text/plain": [
       "9"
      ]
     },
     "execution_count": 8,
     "metadata": {},
     "output_type": "execute_result"
    }
   ],
   "execution_count": 8
  },
  {
   "metadata": {},
   "cell_type": "markdown",
   "source": "Question 4: Write a Python program to reverse a string.",
   "id": "8cbaf8f6294d0cbe"
  },
  {
   "metadata": {
    "ExecuteTime": {
     "end_time": "2025-01-21T21:13:37.325177Z",
     "start_time": "2025-01-21T21:13:37.309191Z"
    }
   },
   "cell_type": "code",
   "source": [
    "w = \"HelloWorld\"\n",
    "reversed_w = w[::-1]\n",
    "print(f\"The reversed word of '{w}' is '{reversed_w}'\")"
   ],
   "id": "ec886e3cbaa93029",
   "outputs": [
    {
     "name": "stdout",
     "output_type": "stream",
     "text": [
      "The reversed word of 'HelloWorld' is 'dlroWolleH'\n"
     ]
    }
   ],
   "execution_count": 9
  },
  {
   "metadata": {},
   "cell_type": "markdown",
   "source": "Question 5: Write a Python program to count the frequency of each element in a list.",
   "id": "ddef780135509980"
  },
  {
   "metadata": {
    "ExecuteTime": {
     "end_time": "2025-01-21T21:13:37.370175Z",
     "start_time": "2025-01-21T21:13:37.351199Z"
    }
   },
   "cell_type": "code",
   "source": [
    "from collections import Counter, OrderedDict\n",
    "word = [np.random.randint(1, 10) for _ in range(10)]\n",
    "print(f\"The word of '{word}' is {Counter(word)}\")"
   ],
   "id": "c20964b2680685b9",
   "outputs": [
    {
     "name": "stdout",
     "output_type": "stream",
     "text": [
      "The word of '[2, 6, 9, 6, 2, 7, 4, 7, 6, 2]' is Counter({2: 3, 6: 3, 7: 2, 9: 1, 4: 1})\n"
     ]
    }
   ],
   "execution_count": 10
  },
  {
   "metadata": {
    "ExecuteTime": {
     "end_time": "2025-01-21T21:13:37.401925Z",
     "start_time": "2025-01-21T21:13:37.388310Z"
    }
   },
   "cell_type": "code",
   "source": [
    "def frequency(word):\n",
    "    freq={}\n",
    "    for i in word:\n",
    "        if i in freq.keys():\n",
    "            freq[i] += 1 # freq.get(i) + 1\n",
    "        else:\n",
    "            freq[i]=1\n",
    "    return freq\n",
    "\n",
    "print(f\"The frequency of '{word}' is {OrderedDict(frequency(word))}\")"
   ],
   "id": "f93350583568337",
   "outputs": [
    {
     "name": "stdout",
     "output_type": "stream",
     "text": [
      "The frequency of '[2, 6, 9, 6, 2, 7, 4, 7, 6, 2]' is OrderedDict([(2, 3), (6, 3), (9, 1), (7, 2), (4, 1)])\n"
     ]
    }
   ],
   "execution_count": 11
  },
  {
   "metadata": {},
   "cell_type": "markdown",
   "source": "Question 6: Write a Python program to check if a number is prime.",
   "id": "24a0a538dcea078c"
  },
  {
   "metadata": {
    "ExecuteTime": {
     "end_time": "2025-01-21T21:13:37.433545Z",
     "start_time": "2025-01-21T21:13:37.419533Z"
    }
   },
   "cell_type": "code",
   "source": [
    "def is_prime(n):\n",
    "    if n < 2:\n",
    "        return False\n",
    "    for i in range(2, int(np.sqrt(n))+1):\n",
    "        if n % i == 0:\n",
    "            return False\n",
    "    return True\n",
    "\n",
    "n = 100\n",
    "l = [i for i in range(0,n) if is_prime(i)]\n",
    "print(f\"The prime numbers before {n} is {l}\")\n"
   ],
   "id": "ff8f3f03dd999b05",
   "outputs": [
    {
     "name": "stdout",
     "output_type": "stream",
     "text": [
      "The prime numbers before 100 is [2, 3, 5, 7, 11, 13, 17, 19, 23, 29, 31, 37, 41, 43, 47, 53, 59, 61, 67, 71, 73, 79, 83, 89, 97]\n"
     ]
    }
   ],
   "execution_count": 12
  },
  {
   "metadata": {},
   "cell_type": "markdown",
   "source": "Question 7: Write a Python program to find the common elements between two lists",
   "id": "5119eb253d5c4b77"
  },
  {
   "metadata": {
    "ExecuteTime": {
     "end_time": "2025-01-21T21:13:37.464811Z",
     "start_time": "2025-01-21T21:13:37.452789Z"
    }
   },
   "cell_type": "code",
   "source": [
    "def get_comm_element(l1, l2):\n",
    "    return set(sorted([e for e in l1 if e in l2])) # set(l1).intersection(l2)\n",
    "\n",
    "n = 10\n",
    "l1 = [np.random.randint(1, n) for _ in range(n)]\n",
    "l2 = [np.random.randint(1, n) for _ in range(n)]\n",
    "\n",
    "print(f\"The common elements of list1 {l1}  and list2 {l2} are {get_comm_element(l1, l2)}\")"
   ],
   "id": "b3270cd8e59dac92",
   "outputs": [
    {
     "name": "stdout",
     "output_type": "stream",
     "text": [
      "The common elements of list1 [6, 9, 6, 6, 3, 5, 4, 5, 9, 1]  and list2 [8, 2, 9, 3, 3, 3, 3, 4, 3, 6] are {9, 3, 4, 6}\n"
     ]
    }
   ],
   "execution_count": 13
  },
  {
   "metadata": {
    "ExecuteTime": {
     "end_time": "2025-01-21T21:13:37.526751Z",
     "start_time": "2025-01-21T21:13:37.507693Z"
    }
   },
   "cell_type": "code",
   "source": [
    "def get_comm_element(ll1, ll2):\n",
    "    l_1 = []\n",
    "    for i in ll1:\n",
    "        if i not in l_1:\n",
    "            l_1.append(i)\n",
    "            \n",
    "    l_2 = []        \n",
    "    for i in ll2:\n",
    "        if i not in l_2:\n",
    "            l_2.append(i)\n",
    "    \n",
    "    return [e for e in l_1 if e in l_2]\n",
    "\n",
    "n = 10\n",
    "l1 = [np.random.randint(1, n) for _ in range(n)]\n",
    "l2 = [np.random.randint(1, n) for _ in range(n)]\n",
    "\n",
    "print(f\"The common elements of list1 {l1}  and list2 {l2} are {get_comm_element(l1, l2)}\")"
   ],
   "id": "d89c9053716c844d",
   "outputs": [
    {
     "name": "stdout",
     "output_type": "stream",
     "text": [
      "The common elements of list1 [2, 3, 8, 2, 8, 5, 9, 4, 8, 3]  and list2 [5, 2, 7, 6, 7, 2, 5, 7, 8, 6] are [2, 8, 5]\n"
     ]
    }
   ],
   "execution_count": 14
  },
  {
   "metadata": {},
   "cell_type": "markdown",
   "source": "Question 8: Write a Python program to sort a list of elements using the bubble sort algorithm.",
   "id": "3268ccb2eae721a"
  },
  {
   "metadata": {
    "ExecuteTime": {
     "end_time": "2025-01-21T21:13:37.573008Z",
     "start_time": "2025-01-21T21:13:37.561991Z"
    }
   },
   "cell_type": "code",
   "source": [
    "l = [np.random.randint(1, n) for _ in range(n)]\n",
    "\n",
    "\n",
    "def get_sorted(l):\n",
    "    n = len(l)\n",
    "    for i in range(n-1):\n",
    "        for j in range(n-i-1):\n",
    "            if l[j] > l[j+1]:\n",
    "                l[j], l[j+1] = l[j+1], l[j]\n",
    "    return l\n",
    "\n",
    "\n",
    "print(f\"The elements of list1 {l}  and sorted list {get_sorted(l)} \")"
   ],
   "id": "b52d5edc4eacb900",
   "outputs": [
    {
     "name": "stdout",
     "output_type": "stream",
     "text": [
      "The elements of list1 [6, 2, 2, 4, 5, 4, 9, 4, 5, 3]  and sorted list [2, 2, 3, 4, 4, 4, 5, 5, 6, 9] \n"
     ]
    }
   ],
   "execution_count": 15
  },
  {
   "metadata": {},
   "cell_type": "markdown",
   "source": "Question 9: Write a Python program to find the second largest number in a list.",
   "id": "af3690e4ebda53bf"
  },
  {
   "metadata": {
    "ExecuteTime": {
     "end_time": "2025-01-21T21:13:37.619643Z",
     "start_time": "2025-01-21T21:13:37.612671Z"
    }
   },
   "cell_type": "code",
   "source": [
    "def get_sorted(l):\n",
    "    n = len(l)\n",
    "    for i in range(n-1):\n",
    "        for j in range(n-i-1):\n",
    "            if l[j] > l[j+1]:\n",
    "                l[j], l[j+1] = l[j+1], l[j]\n",
    "    return l\n",
    "\n",
    "n=10\n",
    "l = [np.random.randint(1, n) for _ in range(n)]\n",
    "print(f\"The second largest element of the list {get_sorted(l)} is {l[-2]}\")"
   ],
   "id": "cb0a9a45e8380283",
   "outputs": [
    {
     "name": "stdout",
     "output_type": "stream",
     "text": [
      "The second largest element of the list [2, 2, 3, 4, 4, 4, 4, 5, 6, 9] is 6\n"
     ]
    }
   ],
   "execution_count": 16
  },
  {
   "metadata": {
    "ExecuteTime": {
     "end_time": "2025-01-21T21:13:37.666635Z",
     "start_time": "2025-01-21T21:13:37.657595Z"
    }
   },
   "cell_type": "code",
   "source": [
    "def  get_second_max(l):\n",
    "    largest = float('-inf')\n",
    "    second_largest = float('-inf')\n",
    "    for num in list(l):\n",
    "        if num > largest:\n",
    "            second_largest = largest\n",
    "            largest = num\n",
    "        elif num > second_largest and num !=  largest:\n",
    "            second_largest = num\n",
    "    return second_largest\n",
    "\n",
    "n=10\n",
    "l = [np.random.randint(1, n) for _ in range(n)]\n",
    "print(f\"The second largest element of the list {l} is {get_second_max(l)}\")"
   ],
   "id": "c225573c11ea5267",
   "outputs": [
    {
     "name": "stdout",
     "output_type": "stream",
     "text": [
      "The second largest element of the list [4, 2, 2, 7, 6, 1, 3, 4, 3, 7] is 6\n"
     ]
    }
   ],
   "execution_count": 17
  },
  {
   "metadata": {},
   "cell_type": "markdown",
   "source": "Question 10: Write a Python program to remove duplicates from a list.\n",
   "id": "a5ebe63a07c6155"
  },
  {
   "metadata": {
    "jupyter": {
     "is_executing": true
    },
    "ExecuteTime": {
     "start_time": "2025-01-21T21:13:59.193020Z"
    }
   },
   "cell_type": "code",
   "source": [
    "def remove_duplicates(ll):\n",
    "    l = []\n",
    "    for i in ll:\n",
    "        if i not in l:\n",
    "            l.append(i)\n",
    "    return l\n",
    "\n",
    "n=10\n",
    "l = [np.random.randint(1, n) for _ in range(n)]\n",
    "print(f\"Remove duplicates element of the list {l} is {remove_duplicates(l)}\")"
   ],
   "id": "c65372f27bbb99f0",
   "outputs": [],
   "execution_count": null
  },
  {
   "metadata": {
    "ExecuteTime": {
     "end_time": "2025-01-21T21:13:37.806014Z",
     "start_time": "2025-01-21T21:13:37.796077Z"
    }
   },
   "cell_type": "code",
   "source": [
    "d1={'a':1, 'b':2, 'c':3, 'd':4}\n",
    "d2 = {'a':1, 'b':2, 'c':3, 'd':5, 'e':5}\n",
    "d1.update(d2)\n",
    "d1  "
   ],
   "id": "ada4f7ee756d681a",
   "outputs": [
    {
     "data": {
      "text/plain": [
       "{'a': 1, 'b': 2, 'c': 3, 'd': 5, 'e': 5}"
      ]
     },
     "execution_count": 19,
     "metadata": {},
     "output_type": "execute_result"
    }
   ],
   "execution_count": 19
  },
  {
   "metadata": {
    "ExecuteTime": {
     "end_time": "2025-01-21T21:13:37.852280Z",
     "start_time": "2025-01-21T21:13:37.834039Z"
    }
   },
   "cell_type": "code",
   "source": "",
   "id": "ac3255fc789ba8b4",
   "outputs": [],
   "execution_count": null
  }
 ],
 "metadata": {
  "kernelspec": {
   "display_name": "Python 3",
   "language": "python",
   "name": "python3"
  },
  "language_info": {
   "codemirror_mode": {
    "name": "ipython",
    "version": 2
   },
   "file_extension": ".py",
   "mimetype": "text/x-python",
   "name": "python",
   "nbconvert_exporter": "python",
   "pygments_lexer": "ipython2",
   "version": "2.7.6"
  }
 },
 "nbformat": 4,
 "nbformat_minor": 5
}
