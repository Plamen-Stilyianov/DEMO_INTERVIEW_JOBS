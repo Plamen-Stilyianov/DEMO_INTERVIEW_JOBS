{
 "cells": [
  {
   "metadata": {
    "ExecuteTime": {
     "end_time": "2025-04-04T22:07:10.116712Z",
     "start_time": "2025-04-04T22:07:10.113202Z"
    }
   },
   "cell_type": "code",
   "source": "import pandas as pd",
   "id": "19aa5e81e795a8a6",
   "outputs": [],
   "execution_count": 11
  },
  {
   "metadata": {
    "ExecuteTime": {
     "end_time": "2025-04-04T22:07:10.123433Z",
     "start_time": "2025-04-04T22:07:10.117932Z"
    }
   },
   "cell_type": "code",
   "source": [
    "url = 'https://data.ca.gov/dataset/cea8cd18-9d21-4676-85de-d504ee2d4aab/resource/26201f19-4469-4311-a819-bbbd3e557eda/download/ca-educational-attainment-personal-income-2008-2014.csv'\n",
    "\n",
    "table = pd.read_csv('data/ca-educational-attainment-personal-income-2008-2014.csv')"
   ],
   "id": "initial_id",
   "outputs": [],
   "execution_count": 12
  },
  {
   "metadata": {
    "ExecuteTime": {
     "end_time": "2025-04-04T22:07:10.134965Z",
     "start_time": "2025-04-04T22:07:10.126956Z"
    }
   },
   "cell_type": "code",
   "source": "pd.__version__",
   "id": "e26d2dd8eaea89e6",
   "outputs": [
    {
     "data": {
      "text/plain": [
       "'2.2.3'"
      ]
     },
     "execution_count": 13,
     "metadata": {},
     "output_type": "execute_result"
    }
   ],
   "execution_count": 13
  },
  {
   "metadata": {
    "ExecuteTime": {
     "end_time": "2025-04-04T22:07:10.145257Z",
     "start_time": "2025-04-04T22:07:10.136230Z"
    }
   },
   "cell_type": "code",
   "source": "table.head()",
   "id": "49f09e444eb81f0e",
   "outputs": [
    {
     "data": {
      "text/plain": [
       "                     Year       Age Gender  Educational Attainment  \\\n",
       "0  01/01/2008 12:00:00 AM  00 to 17   Male       Children under 15   \n",
       "1  01/01/2008 12:00:00 AM  00 to 17   Male  No high school diploma   \n",
       "2  01/01/2008 12:00:00 AM  00 to 17   Male  No high school diploma   \n",
       "3  01/01/2008 12:00:00 AM  00 to 17   Male  No high school diploma   \n",
       "4  01/01/2008 12:00:00 AM  00 to 17   Male  No high school diploma   \n",
       "\n",
       "      Personal Income  Population Count  \n",
       "0           No Income               NaN  \n",
       "1           No Income          650889.0  \n",
       "2    $5,000 to $9,999           30152.0  \n",
       "3  $10,000 to $14,999            7092.0  \n",
       "4  $15,000 to $24,999            3974.0  "
      ],
      "text/html": [
       "<div>\n",
       "<style scoped>\n",
       "    .dataframe tbody tr th:only-of-type {\n",
       "        vertical-align: middle;\n",
       "    }\n",
       "\n",
       "    .dataframe tbody tr th {\n",
       "        vertical-align: top;\n",
       "    }\n",
       "\n",
       "    .dataframe thead th {\n",
       "        text-align: right;\n",
       "    }\n",
       "</style>\n",
       "<table border=\"1\" class=\"dataframe\">\n",
       "  <thead>\n",
       "    <tr style=\"text-align: right;\">\n",
       "      <th></th>\n",
       "      <th>Year</th>\n",
       "      <th>Age</th>\n",
       "      <th>Gender</th>\n",
       "      <th>Educational Attainment</th>\n",
       "      <th>Personal Income</th>\n",
       "      <th>Population Count</th>\n",
       "    </tr>\n",
       "  </thead>\n",
       "  <tbody>\n",
       "    <tr>\n",
       "      <th>0</th>\n",
       "      <td>01/01/2008 12:00:00 AM</td>\n",
       "      <td>00 to 17</td>\n",
       "      <td>Male</td>\n",
       "      <td>Children under 15</td>\n",
       "      <td>No Income</td>\n",
       "      <td>NaN</td>\n",
       "    </tr>\n",
       "    <tr>\n",
       "      <th>1</th>\n",
       "      <td>01/01/2008 12:00:00 AM</td>\n",
       "      <td>00 to 17</td>\n",
       "      <td>Male</td>\n",
       "      <td>No high school diploma</td>\n",
       "      <td>No Income</td>\n",
       "      <td>650889.0</td>\n",
       "    </tr>\n",
       "    <tr>\n",
       "      <th>2</th>\n",
       "      <td>01/01/2008 12:00:00 AM</td>\n",
       "      <td>00 to 17</td>\n",
       "      <td>Male</td>\n",
       "      <td>No high school diploma</td>\n",
       "      <td>$5,000 to $9,999</td>\n",
       "      <td>30152.0</td>\n",
       "    </tr>\n",
       "    <tr>\n",
       "      <th>3</th>\n",
       "      <td>01/01/2008 12:00:00 AM</td>\n",
       "      <td>00 to 17</td>\n",
       "      <td>Male</td>\n",
       "      <td>No high school diploma</td>\n",
       "      <td>$10,000 to $14,999</td>\n",
       "      <td>7092.0</td>\n",
       "    </tr>\n",
       "    <tr>\n",
       "      <th>4</th>\n",
       "      <td>01/01/2008 12:00:00 AM</td>\n",
       "      <td>00 to 17</td>\n",
       "      <td>Male</td>\n",
       "      <td>No high school diploma</td>\n",
       "      <td>$15,000 to $24,999</td>\n",
       "      <td>3974.0</td>\n",
       "    </tr>\n",
       "  </tbody>\n",
       "</table>\n",
       "</div>"
      ]
     },
     "execution_count": 14,
     "metadata": {},
     "output_type": "execute_result"
    }
   ],
   "execution_count": 14
  },
  {
   "metadata": {
    "ExecuteTime": {
     "end_time": "2025-04-04T22:07:10.153201Z",
     "start_time": "2025-04-04T22:07:10.146266Z"
    }
   },
   "cell_type": "code",
   "source": "table.tail()",
   "id": "5534886b5acc5d1c",
   "outputs": [
    {
     "data": {
      "text/plain": [
       "                        Year        Age  Gender       Educational Attainment  \\\n",
       "1055  01/01/2014 12:00:00 AM  65 to 80+  Female  Bachelor's degree or higher   \n",
       "1056  01/01/2014 12:00:00 AM  65 to 80+  Female  Bachelor's degree or higher   \n",
       "1057  01/01/2014 12:00:00 AM  65 to 80+  Female  Bachelor's degree or higher   \n",
       "1058  01/01/2014 12:00:00 AM  65 to 80+  Female  Bachelor's degree or higher   \n",
       "1059  01/01/2014 12:00:00 AM  65 to 80+  Female  Bachelor's degree or higher   \n",
       "\n",
       "         Personal Income  Population Count  \n",
       "1055  $15,000 to $24,999           82988.0  \n",
       "1056  $25,000 to $34,999           59607.0  \n",
       "1057  $35,000 to $49,999          113584.0  \n",
       "1058  $50,000 to $74,999           97657.0  \n",
       "1059    $75,000 and over          110009.0  "
      ],
      "text/html": [
       "<div>\n",
       "<style scoped>\n",
       "    .dataframe tbody tr th:only-of-type {\n",
       "        vertical-align: middle;\n",
       "    }\n",
       "\n",
       "    .dataframe tbody tr th {\n",
       "        vertical-align: top;\n",
       "    }\n",
       "\n",
       "    .dataframe thead th {\n",
       "        text-align: right;\n",
       "    }\n",
       "</style>\n",
       "<table border=\"1\" class=\"dataframe\">\n",
       "  <thead>\n",
       "    <tr style=\"text-align: right;\">\n",
       "      <th></th>\n",
       "      <th>Year</th>\n",
       "      <th>Age</th>\n",
       "      <th>Gender</th>\n",
       "      <th>Educational Attainment</th>\n",
       "      <th>Personal Income</th>\n",
       "      <th>Population Count</th>\n",
       "    </tr>\n",
       "  </thead>\n",
       "  <tbody>\n",
       "    <tr>\n",
       "      <th>1055</th>\n",
       "      <td>01/01/2014 12:00:00 AM</td>\n",
       "      <td>65 to 80+</td>\n",
       "      <td>Female</td>\n",
       "      <td>Bachelor's degree or higher</td>\n",
       "      <td>$15,000 to $24,999</td>\n",
       "      <td>82988.0</td>\n",
       "    </tr>\n",
       "    <tr>\n",
       "      <th>1056</th>\n",
       "      <td>01/01/2014 12:00:00 AM</td>\n",
       "      <td>65 to 80+</td>\n",
       "      <td>Female</td>\n",
       "      <td>Bachelor's degree or higher</td>\n",
       "      <td>$25,000 to $34,999</td>\n",
       "      <td>59607.0</td>\n",
       "    </tr>\n",
       "    <tr>\n",
       "      <th>1057</th>\n",
       "      <td>01/01/2014 12:00:00 AM</td>\n",
       "      <td>65 to 80+</td>\n",
       "      <td>Female</td>\n",
       "      <td>Bachelor's degree or higher</td>\n",
       "      <td>$35,000 to $49,999</td>\n",
       "      <td>113584.0</td>\n",
       "    </tr>\n",
       "    <tr>\n",
       "      <th>1058</th>\n",
       "      <td>01/01/2014 12:00:00 AM</td>\n",
       "      <td>65 to 80+</td>\n",
       "      <td>Female</td>\n",
       "      <td>Bachelor's degree or higher</td>\n",
       "      <td>$50,000 to $74,999</td>\n",
       "      <td>97657.0</td>\n",
       "    </tr>\n",
       "    <tr>\n",
       "      <th>1059</th>\n",
       "      <td>01/01/2014 12:00:00 AM</td>\n",
       "      <td>65 to 80+</td>\n",
       "      <td>Female</td>\n",
       "      <td>Bachelor's degree or higher</td>\n",
       "      <td>$75,000 and over</td>\n",
       "      <td>110009.0</td>\n",
       "    </tr>\n",
       "  </tbody>\n",
       "</table>\n",
       "</div>"
      ]
     },
     "execution_count": 15,
     "metadata": {},
     "output_type": "execute_result"
    }
   ],
   "execution_count": 15
  },
  {
   "metadata": {
    "ExecuteTime": {
     "end_time": "2025-04-04T22:07:10.159596Z",
     "start_time": "2025-04-04T22:07:10.153201Z"
    }
   },
   "cell_type": "code",
   "source": "table.iloc[-1]",
   "id": "a8809782e4f0c884",
   "outputs": [
    {
     "data": {
      "text/plain": [
       "Year                           01/01/2014 12:00:00 AM\n",
       "Age                                         65 to 80+\n",
       "Gender                                         Female\n",
       "Educational Attainment    Bachelor's degree or higher\n",
       "Personal Income                      $75,000 and over\n",
       "Population Count                             110009.0\n",
       "Name: 1059, dtype: object"
      ]
     },
     "execution_count": 16,
     "metadata": {},
     "output_type": "execute_result"
    }
   ],
   "execution_count": 16
  },
  {
   "metadata": {
    "ExecuteTime": {
     "end_time": "2025-04-04T22:07:10.168145Z",
     "start_time": "2025-04-04T22:07:10.160603Z"
    }
   },
   "cell_type": "code",
   "source": "table.drop(table.index[-1]).tail()",
   "id": "5233bbd6f1ca99",
   "outputs": [
    {
     "data": {
      "text/plain": [
       "                        Year        Age  Gender       Educational Attainment  \\\n",
       "1054  01/01/2014 12:00:00 AM  65 to 80+  Female  Bachelor's degree or higher   \n",
       "1055  01/01/2014 12:00:00 AM  65 to 80+  Female  Bachelor's degree or higher   \n",
       "1056  01/01/2014 12:00:00 AM  65 to 80+  Female  Bachelor's degree or higher   \n",
       "1057  01/01/2014 12:00:00 AM  65 to 80+  Female  Bachelor's degree or higher   \n",
       "1058  01/01/2014 12:00:00 AM  65 to 80+  Female  Bachelor's degree or higher   \n",
       "\n",
       "         Personal Income  Population Count  \n",
       "1054  $10,000 to $14,999          104583.0  \n",
       "1055  $15,000 to $24,999           82988.0  \n",
       "1056  $25,000 to $34,999           59607.0  \n",
       "1057  $35,000 to $49,999          113584.0  \n",
       "1058  $50,000 to $74,999           97657.0  "
      ],
      "text/html": [
       "<div>\n",
       "<style scoped>\n",
       "    .dataframe tbody tr th:only-of-type {\n",
       "        vertical-align: middle;\n",
       "    }\n",
       "\n",
       "    .dataframe tbody tr th {\n",
       "        vertical-align: top;\n",
       "    }\n",
       "\n",
       "    .dataframe thead th {\n",
       "        text-align: right;\n",
       "    }\n",
       "</style>\n",
       "<table border=\"1\" class=\"dataframe\">\n",
       "  <thead>\n",
       "    <tr style=\"text-align: right;\">\n",
       "      <th></th>\n",
       "      <th>Year</th>\n",
       "      <th>Age</th>\n",
       "      <th>Gender</th>\n",
       "      <th>Educational Attainment</th>\n",
       "      <th>Personal Income</th>\n",
       "      <th>Population Count</th>\n",
       "    </tr>\n",
       "  </thead>\n",
       "  <tbody>\n",
       "    <tr>\n",
       "      <th>1054</th>\n",
       "      <td>01/01/2014 12:00:00 AM</td>\n",
       "      <td>65 to 80+</td>\n",
       "      <td>Female</td>\n",
       "      <td>Bachelor's degree or higher</td>\n",
       "      <td>$10,000 to $14,999</td>\n",
       "      <td>104583.0</td>\n",
       "    </tr>\n",
       "    <tr>\n",
       "      <th>1055</th>\n",
       "      <td>01/01/2014 12:00:00 AM</td>\n",
       "      <td>65 to 80+</td>\n",
       "      <td>Female</td>\n",
       "      <td>Bachelor's degree or higher</td>\n",
       "      <td>$15,000 to $24,999</td>\n",
       "      <td>82988.0</td>\n",
       "    </tr>\n",
       "    <tr>\n",
       "      <th>1056</th>\n",
       "      <td>01/01/2014 12:00:00 AM</td>\n",
       "      <td>65 to 80+</td>\n",
       "      <td>Female</td>\n",
       "      <td>Bachelor's degree or higher</td>\n",
       "      <td>$25,000 to $34,999</td>\n",
       "      <td>59607.0</td>\n",
       "    </tr>\n",
       "    <tr>\n",
       "      <th>1057</th>\n",
       "      <td>01/01/2014 12:00:00 AM</td>\n",
       "      <td>65 to 80+</td>\n",
       "      <td>Female</td>\n",
       "      <td>Bachelor's degree or higher</td>\n",
       "      <td>$35,000 to $49,999</td>\n",
       "      <td>113584.0</td>\n",
       "    </tr>\n",
       "    <tr>\n",
       "      <th>1058</th>\n",
       "      <td>01/01/2014 12:00:00 AM</td>\n",
       "      <td>65 to 80+</td>\n",
       "      <td>Female</td>\n",
       "      <td>Bachelor's degree or higher</td>\n",
       "      <td>$50,000 to $74,999</td>\n",
       "      <td>97657.0</td>\n",
       "    </tr>\n",
       "  </tbody>\n",
       "</table>\n",
       "</div>"
      ]
     },
     "execution_count": 17,
     "metadata": {},
     "output_type": "execute_result"
    }
   ],
   "execution_count": 17
  },
  {
   "metadata": {
    "ExecuteTime": {
     "end_time": "2025-04-04T22:07:10.178939Z",
     "start_time": "2025-04-04T22:07:10.169420Z"
    }
   },
   "cell_type": "code",
   "source": "table.drop('Population Count', axis=1)",
   "id": "92102a6741e08b1c",
   "outputs": [
    {
     "data": {
      "text/plain": [
       "                        Year        Age  Gender       Educational Attainment  \\\n",
       "0     01/01/2008 12:00:00 AM   00 to 17    Male            Children under 15   \n",
       "1     01/01/2008 12:00:00 AM   00 to 17    Male       No high school diploma   \n",
       "2     01/01/2008 12:00:00 AM   00 to 17    Male       No high school diploma   \n",
       "3     01/01/2008 12:00:00 AM   00 to 17    Male       No high school diploma   \n",
       "4     01/01/2008 12:00:00 AM   00 to 17    Male       No high school diploma   \n",
       "...                      ...        ...     ...                          ...   \n",
       "1055  01/01/2014 12:00:00 AM  65 to 80+  Female  Bachelor's degree or higher   \n",
       "1056  01/01/2014 12:00:00 AM  65 to 80+  Female  Bachelor's degree or higher   \n",
       "1057  01/01/2014 12:00:00 AM  65 to 80+  Female  Bachelor's degree or higher   \n",
       "1058  01/01/2014 12:00:00 AM  65 to 80+  Female  Bachelor's degree or higher   \n",
       "1059  01/01/2014 12:00:00 AM  65 to 80+  Female  Bachelor's degree or higher   \n",
       "\n",
       "         Personal Income  \n",
       "0              No Income  \n",
       "1              No Income  \n",
       "2       $5,000 to $9,999  \n",
       "3     $10,000 to $14,999  \n",
       "4     $15,000 to $24,999  \n",
       "...                  ...  \n",
       "1055  $15,000 to $24,999  \n",
       "1056  $25,000 to $34,999  \n",
       "1057  $35,000 to $49,999  \n",
       "1058  $50,000 to $74,999  \n",
       "1059    $75,000 and over  \n",
       "\n",
       "[1060 rows x 5 columns]"
      ],
      "text/html": [
       "<div>\n",
       "<style scoped>\n",
       "    .dataframe tbody tr th:only-of-type {\n",
       "        vertical-align: middle;\n",
       "    }\n",
       "\n",
       "    .dataframe tbody tr th {\n",
       "        vertical-align: top;\n",
       "    }\n",
       "\n",
       "    .dataframe thead th {\n",
       "        text-align: right;\n",
       "    }\n",
       "</style>\n",
       "<table border=\"1\" class=\"dataframe\">\n",
       "  <thead>\n",
       "    <tr style=\"text-align: right;\">\n",
       "      <th></th>\n",
       "      <th>Year</th>\n",
       "      <th>Age</th>\n",
       "      <th>Gender</th>\n",
       "      <th>Educational Attainment</th>\n",
       "      <th>Personal Income</th>\n",
       "    </tr>\n",
       "  </thead>\n",
       "  <tbody>\n",
       "    <tr>\n",
       "      <th>0</th>\n",
       "      <td>01/01/2008 12:00:00 AM</td>\n",
       "      <td>00 to 17</td>\n",
       "      <td>Male</td>\n",
       "      <td>Children under 15</td>\n",
       "      <td>No Income</td>\n",
       "    </tr>\n",
       "    <tr>\n",
       "      <th>1</th>\n",
       "      <td>01/01/2008 12:00:00 AM</td>\n",
       "      <td>00 to 17</td>\n",
       "      <td>Male</td>\n",
       "      <td>No high school diploma</td>\n",
       "      <td>No Income</td>\n",
       "    </tr>\n",
       "    <tr>\n",
       "      <th>2</th>\n",
       "      <td>01/01/2008 12:00:00 AM</td>\n",
       "      <td>00 to 17</td>\n",
       "      <td>Male</td>\n",
       "      <td>No high school diploma</td>\n",
       "      <td>$5,000 to $9,999</td>\n",
       "    </tr>\n",
       "    <tr>\n",
       "      <th>3</th>\n",
       "      <td>01/01/2008 12:00:00 AM</td>\n",
       "      <td>00 to 17</td>\n",
       "      <td>Male</td>\n",
       "      <td>No high school diploma</td>\n",
       "      <td>$10,000 to $14,999</td>\n",
       "    </tr>\n",
       "    <tr>\n",
       "      <th>4</th>\n",
       "      <td>01/01/2008 12:00:00 AM</td>\n",
       "      <td>00 to 17</td>\n",
       "      <td>Male</td>\n",
       "      <td>No high school diploma</td>\n",
       "      <td>$15,000 to $24,999</td>\n",
       "    </tr>\n",
       "    <tr>\n",
       "      <th>...</th>\n",
       "      <td>...</td>\n",
       "      <td>...</td>\n",
       "      <td>...</td>\n",
       "      <td>...</td>\n",
       "      <td>...</td>\n",
       "    </tr>\n",
       "    <tr>\n",
       "      <th>1055</th>\n",
       "      <td>01/01/2014 12:00:00 AM</td>\n",
       "      <td>65 to 80+</td>\n",
       "      <td>Female</td>\n",
       "      <td>Bachelor's degree or higher</td>\n",
       "      <td>$15,000 to $24,999</td>\n",
       "    </tr>\n",
       "    <tr>\n",
       "      <th>1056</th>\n",
       "      <td>01/01/2014 12:00:00 AM</td>\n",
       "      <td>65 to 80+</td>\n",
       "      <td>Female</td>\n",
       "      <td>Bachelor's degree or higher</td>\n",
       "      <td>$25,000 to $34,999</td>\n",
       "    </tr>\n",
       "    <tr>\n",
       "      <th>1057</th>\n",
       "      <td>01/01/2014 12:00:00 AM</td>\n",
       "      <td>65 to 80+</td>\n",
       "      <td>Female</td>\n",
       "      <td>Bachelor's degree or higher</td>\n",
       "      <td>$35,000 to $49,999</td>\n",
       "    </tr>\n",
       "    <tr>\n",
       "      <th>1058</th>\n",
       "      <td>01/01/2014 12:00:00 AM</td>\n",
       "      <td>65 to 80+</td>\n",
       "      <td>Female</td>\n",
       "      <td>Bachelor's degree or higher</td>\n",
       "      <td>$50,000 to $74,999</td>\n",
       "    </tr>\n",
       "    <tr>\n",
       "      <th>1059</th>\n",
       "      <td>01/01/2014 12:00:00 AM</td>\n",
       "      <td>65 to 80+</td>\n",
       "      <td>Female</td>\n",
       "      <td>Bachelor's degree or higher</td>\n",
       "      <td>$75,000 and over</td>\n",
       "    </tr>\n",
       "  </tbody>\n",
       "</table>\n",
       "<p>1060 rows × 5 columns</p>\n",
       "</div>"
      ]
     },
     "execution_count": 18,
     "metadata": {},
     "output_type": "execute_result"
    }
   ],
   "execution_count": 18
  },
  {
   "metadata": {
    "ExecuteTime": {
     "end_time": "2025-04-04T22:07:10.184653Z",
     "start_time": "2025-04-04T22:07:10.180232Z"
    }
   },
   "cell_type": "code",
   "source": "table.index  ",
   "id": "de7c1567dac65b81",
   "outputs": [
    {
     "data": {
      "text/plain": [
       "RangeIndex(start=0, stop=1060, step=1)"
      ]
     },
     "execution_count": 19,
     "metadata": {},
     "output_type": "execute_result"
    }
   ],
   "execution_count": 19
  },
  {
   "metadata": {
    "ExecuteTime": {
     "end_time": "2025-04-04T22:07:10.193765Z",
     "start_time": "2025-04-04T22:07:10.186662Z"
    }
   },
   "cell_type": "code",
   "source": "table.drop",
   "id": "1d8bc0ddcf602a9",
   "outputs": [
    {
     "data": {
      "text/plain": [
       "<bound method DataFrame.drop of                         Year        Age  Gender       Educational Attainment  \\\n",
       "0     01/01/2008 12:00:00 AM   00 to 17    Male            Children under 15   \n",
       "1     01/01/2008 12:00:00 AM   00 to 17    Male       No high school diploma   \n",
       "2     01/01/2008 12:00:00 AM   00 to 17    Male       No high school diploma   \n",
       "3     01/01/2008 12:00:00 AM   00 to 17    Male       No high school diploma   \n",
       "4     01/01/2008 12:00:00 AM   00 to 17    Male       No high school diploma   \n",
       "...                      ...        ...     ...                          ...   \n",
       "1055  01/01/2014 12:00:00 AM  65 to 80+  Female  Bachelor's degree or higher   \n",
       "1056  01/01/2014 12:00:00 AM  65 to 80+  Female  Bachelor's degree or higher   \n",
       "1057  01/01/2014 12:00:00 AM  65 to 80+  Female  Bachelor's degree or higher   \n",
       "1058  01/01/2014 12:00:00 AM  65 to 80+  Female  Bachelor's degree or higher   \n",
       "1059  01/01/2014 12:00:00 AM  65 to 80+  Female  Bachelor's degree or higher   \n",
       "\n",
       "         Personal Income  Population Count  \n",
       "0              No Income               NaN  \n",
       "1              No Income          650889.0  \n",
       "2       $5,000 to $9,999           30152.0  \n",
       "3     $10,000 to $14,999            7092.0  \n",
       "4     $15,000 to $24,999            3974.0  \n",
       "...                  ...               ...  \n",
       "1055  $15,000 to $24,999           82988.0  \n",
       "1056  $25,000 to $34,999           59607.0  \n",
       "1057  $35,000 to $49,999          113584.0  \n",
       "1058  $50,000 to $74,999           97657.0  \n",
       "1059    $75,000 and over          110009.0  \n",
       "\n",
       "[1060 rows x 6 columns]>"
      ]
     },
     "execution_count": 20,
     "metadata": {},
     "output_type": "execute_result"
    }
   ],
   "execution_count": 20
  }
 ],
 "metadata": {
  "kernelspec": {
   "display_name": "Python 3",
   "language": "python",
   "name": "python3"
  },
  "language_info": {
   "codemirror_mode": {
    "name": "ipython",
    "version": 2
   },
   "file_extension": ".py",
   "mimetype": "text/x-python",
   "name": "python",
   "nbconvert_exporter": "python",
   "pygments_lexer": "ipython2",
   "version": "2.7.6"
  }
 },
 "nbformat": 4,
 "nbformat_minor": 5
}
